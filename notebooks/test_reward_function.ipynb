{
 "cells": [
  {
   "cell_type": "code",
   "execution_count": 104,
   "metadata": {},
   "outputs": [],
   "source": [
    "# Some plots / Testing the separation reward\n",
    "MIN_SEPARATION_ALLOWED = 4.0\n",
    "SEPARATION_COST = 80.0"
   ]
  },
  {
   "cell_type": "code",
   "execution_count": 105,
   "metadata": {},
   "outputs": [],
   "source": [
    "# Simplest reward structure ... was sufficient for the single-aircraft case\n",
    "def get_terminal_reward(dist):\n",
    "    if dist < MIN_SEPARATION_ALLOWED:\n",
    "        return -1*SEPARATION_COST\n",
    "    else:\n",
    "        return 0.0"
   ]
  },
  {
   "cell_type": "code",
   "execution_count": 106,
   "metadata": {},
   "outputs": [
    {
     "data": {
      "image/png": "[encoded data removed]",
      "text/plain": [
       "<Figure size 432x288 with 1 Axes>"
      ]
     },
     "metadata": {
      "needs_background": "light"
     },
     "output_type": "display_data"
    }
   ],
   "source": [
    "import matplotlib.pyplot as plt\n",
    "import numpy as np\n",
    "\n",
    "x = np.linspace(0.01, 8.0, 200)\n",
    "y = [get_terminal_reward(x_val) for x_val in x]\n",
    "plt.plot(x, y)\n",
    "plt.xlabel(\"Distance between aircrafts\")\n",
    "plt.ylabel(\"Reward\")\n",
    "plt.show()"
   ]
  },
  {
   "cell_type": "code",
   "execution_count": 107,
   "metadata": {},
   "outputs": [
    {
     "data": {
      "image/png": "[encoded data removed]",
      "text/plain": [
       "<Figure size 432x288 with 1 Axes>"
      ]
     },
     "metadata": {
      "needs_background": "light"
     },
     "output_type": "display_data"
    }
   ],
   "source": [
    "# Rather, we want to nudge the neural net towards higher reward\n",
    "# which is known to speed up the learning considerably\n",
    "# We still want a 'jump' at the critical value...\n",
    "def get_corrected_terminal_reward(dist):\n",
    "    if dist < MIN_SEPARATION_ALLOWED:\n",
    "        C1 = SEPARATION_COST*0.5\n",
    "        C2 = 1.0\n",
    "        correction = C1/(dist - (MIN_SEPARATION_ALLOWED + C2))**2\n",
    "        \n",
    "        return -1*SEPARATION_COST + correction\n",
    "    else:\n",
    "        return 0.0\n",
    "    \n",
    "y = [get_corrected_terminal_reward(x_val) for x_val in x]\n",
    "plt.plot(x, y)\n",
    "plt.xlabel(\"Distance between aircrafts\")\n",
    "plt.ylabel(\"Reward\")\n",
    "plt.show()"
   ]
  },
  {
   "cell_type": "code",
   "execution_count": 108,
   "metadata": {},
   "outputs": [],
   "source": [
    "# So if the reward in the worst case is -1000.0\n",
    "# reward in the best (among the bad) case is -500.0\n",
    "# and reward in a good case is 0.0\n",
    "\n",
    "# The reason why we won't apply this correction to the right half of the function\n",
    "# is because then the aircraft has incentive to minimize the length of each episode\n",
    "# (to stop accumulating negative rewards)\n",
    "\n",
    "# We don't want that to be one of the goals of our ATC (...at least not yet?)"
   ]
  },
  {
   "cell_type": "code",
   "execution_count": null,
   "metadata": {},
   "outputs": [],
   "source": [
    "#"
   ]
  },
  {
   "cell_type": "code",
   "execution_count": 109,
   "metadata": {},
   "outputs": [],
   "source": [
    "# Some stray code. Avert your eyes!!!\n",
    "\n",
    "# import os; os.chdir('bluesky')\n",
    "# from plugins.CR_2AC_classes import Buffer\n",
    "# import numpy as np\n",
    "# from bluesky.tools.geo import qdrdist\n",
    "\n",
    "# class Traf:\n",
    "#     \"\"\"\n",
    "#     Dummy BlueSky-like class for testing get_state()\n",
    "#     \"\"\"\n",
    "#     def __init__(self):\n",
    "#         self.hdg = [None, None]\n",
    "#         self.lat = [None, None]\n",
    "#         self.lon = [None, None]\n",
    "        \n",
    "# traf = Traf()"
   ]
  }
 ],
 "metadata": {
  "kernelspec": {
   "display_name": "Python 3",
   "language": "python",
   "name": "python3"
  },
  "language_info": {
   "codemirror_mode": {
    "name": "ipython",
    "version": 3
   },
   "file_extension": ".py",
   "mimetype": "text/x-python",
   "name": "python",
   "nbconvert_exporter": "python",
   "pygments_lexer": "ipython3",
   "version": "3.7.4"
  }
 },
 "nbformat": 4,
 "nbformat_minor": 2
}
